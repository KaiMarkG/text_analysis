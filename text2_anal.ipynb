{
 "cells": [
  {
   "cell_type": "markdown",
   "metadata": {},
   "source": [
    "1. Из всего текста отобрать комбинации смежных слов (стоящие рядом в одном предложении), содержащие слово соответствующее Вашему варианту (файл text_sent_2, word1 matrix). Если слово в варианте указано как word1, то оно должно быть только на первой позиции. На второй позиции может быть любое слово."
   ]
  },
  {
   "cell_type": "code",
   "execution_count": 1,
   "metadata": {},
   "outputs": [],
   "source": [
    "import pandas as pd\n",
    "import numpy as np\n",
    "import math\n",
    "from scipy.stats import t\n",
    "from scipy.stats import chi2"
   ]
  },
  {
   "cell_type": "code",
   "execution_count": 2,
   "metadata": {},
   "outputs": [],
   "source": [
    "file_path = 'text_sent_2.txt'\n",
    "target_word = 'matrix'\n",
    "\n",
    "total_bigrams = 0\n",
    "target_word_count = 0"
   ]
  },
  {
   "cell_type": "code",
   "execution_count": 3,
   "metadata": {},
   "outputs": [],
   "source": [
    "data = {'bigramma': [], 'frequency': []}"
   ]
  },
  {
   "cell_type": "code",
   "execution_count": 4,
   "metadata": {},
   "outputs": [],
   "source": [
    "with open(file_path, 'r', encoding='utf-8') as file:\n",
    "    for line in file:\n",
    "        words = line.split()\n",
    "        total_bigrams += len(words) - 1\n",
    "\n",
    "        for i in range(1, len(words)):\n",
    "            if words[i - 1] == target_word:\n",
    "                target_word_count += 1\n",
    "                bigram = f\"{target_word} {words[i]}\"\n",
    "                if bigram in data['bigramma']:\n",
    "                    index = data['bigramma'].index(bigram)\n",
    "                    data['frequency'][index] += 1\n",
    "                else:\n",
    "                    data['bigramma'].append(bigram)\n",
    "                    data['frequency'].append(1)"
   ]
  },
  {
   "cell_type": "code",
   "execution_count": 5,
   "metadata": {},
   "outputs": [
    {
     "data": {
      "text/plain": [
       "128"
      ]
     },
     "execution_count": 5,
     "metadata": {},
     "output_type": "execute_result"
    }
   ],
   "source": [
    "target_word_count"
   ]
  },
  {
   "cell_type": "code",
   "execution_count": 6,
   "metadata": {},
   "outputs": [
    {
     "data": {
      "text/plain": [
       "123625"
      ]
     },
     "execution_count": 6,
     "metadata": {},
     "output_type": "execute_result"
    }
   ],
   "source": [
    "total_bigrams"
   ]
  },
  {
   "cell_type": "code",
   "execution_count": 7,
   "metadata": {},
   "outputs": [],
   "source": [
    "tab = pd.DataFrame(data)"
   ]
  },
  {
   "cell_type": "code",
   "execution_count": 8,
   "metadata": {},
   "outputs": [],
   "source": [
    "tab.to_csv('bi_tab.csv', sep=';', index=True, encoding='utf-8')"
   ]
  },
  {
   "cell_type": "markdown",
   "metadata": {},
   "source": [
    "2. Проранжировать биграммы по частоте встречаемости. Сделать предварительные выводы о возможных коллокациях."
   ]
  },
  {
   "cell_type": "code",
   "execution_count": 9,
   "metadata": {},
   "outputs": [],
   "source": [
    "tab = tab.sort_values(by = 'frequency', ascending = False)"
   ]
  },
  {
   "cell_type": "code",
   "execution_count": 10,
   "metadata": {},
   "outputs": [],
   "source": [
    "tab.to_csv('bi_tab_sorted.csv', sep=';', index=True, encoding='utf-8')"
   ]
  },
  {
   "cell_type": "markdown",
   "metadata": {},
   "source": [
    "Collocations или коллокации — это грамматически и лексически правильные словосочетания. Проранжировав наши словосочетания по частоте встречаемости мы можем заметить, что самые часто встречающиеся сочетания вполне могут являться коллокациями, т.к. смысл в них имеется. Также мы можем предположить, что такие биграммы, например, как training of, training an, training from и training if не являются коллокациями, так как между ними не смысловая связь, а только грамматическая. Однако судить об этом по одной только частоте встречаемости может быть опрометчиво."
   ]
  },
  {
   "cell_type": "markdown",
   "metadata": {},
   "source": [
    "3. Проранжировать биграммы, отобранные в п. 2, в соответствие с критериями: хи-квадрат Пирсона и отношения правдоподобия"
   ]
  },
  {
   "cell_type": "markdown",
   "metadata": {},
   "source": [
    "Извлечем из полученных биграмм все слова, стоящие на второй позиции"
   ]
  },
  {
   "cell_type": "code",
   "execution_count": 11,
   "metadata": {},
   "outputs": [],
   "source": [
    "word2_all = []\n",
    "for bi in tab['bigramma']:\n",
    "    word2_all.extend(bi.split()[1:])"
   ]
  },
  {
   "cell_type": "code",
   "execution_count": 14,
   "metadata": {},
   "outputs": [
    {
     "name": "stdout",
     "output_type": "stream",
     "text": [
      "Критическое значение для chi2 при alfa = 0.001:  10.827566170662733\n",
      "Критическое значение для LHR при alfa = 0.001:  10.827566170662733\n"
     ]
    }
   ],
   "source": [
    "df = 1  # Степени свободы для 2x2 таблицы\n",
    "chi2_crit = chi2.ppf(1 - 0.001, df)\n",
    "print(\"Критическое значение для chi2 при alfa = 0.001: \", chi2_crit)\n",
    "print(\"Критическое значение для LHR при alfa = 0.001: \", chi2_crit)"
   ]
  },
  {
   "cell_type": "code",
   "execution_count": 13,
   "metadata": {},
   "outputs": [],
   "source": [
    "def logL(k, n, x):\n",
    "    return k * np.log(x) + (n - k) * np.log(1 - x)"
   ]
  },
  {
   "cell_type": "code",
   "execution_count": 15,
   "metadata": {},
   "outputs": [],
   "source": [
    "chi2_test = []\n",
    "LHR_list = []\n",
    "hypothesis_list = []\n",
    "chi2_hypothesis_list = []\n",
    "\n",
    "for j in range(len(word2_all)):\n",
    "    with open(file_path, 'r', encoding='utf-8') as file:\n",
    "        # file.seek(0)\n",
    "        O = np.zeros((2, 2))\n",
    "\n",
    "        for line in file:\n",
    "            text = line.split()\n",
    "            for i in range(len(text)):\n",
    "                if text[i - 1] != target_word and text[i] == word2_all[j]:\n",
    "                    O[1][0] += 1\n",
    "\n",
    "        O[0][0] = tab['frequency'].iloc[j]\n",
    "        O[0][1] = target_word_count - O[0][0]\n",
    "        O[1][1] = total_bigrams - O[0][0] - O[0][1] - O[1][0]\n",
    "\n",
    "        N = total_bigrams # зачем тыщу раз считать то, что и так вычисленно\n",
    "        c1 = O[0][0] + O[0][1]\n",
    "        c2 = O[0][0] + O[1][0]\n",
    "        c12 = O[0][0]\n",
    "\n",
    "        p_hat = c2 / N\n",
    "        p1_hat = c12 / c1\n",
    "        p2_hat = (c2 - c12) / (N - c1)\n",
    "\n",
    "        log_lambda = logL(c12, c1, p_hat) + logL(c2 - c12, N - c1, p_hat) - logL(c12, c1, p1_hat) - logL(c2 - c12, N - c1, p2_hat)\n",
    "\n",
    "        LR = -2 * log_lambda\n",
    "\n",
    "        if LR > chi2_crit:\n",
    "            hypothesis = 'Отвергается'\n",
    "        else:\n",
    "            hypothesis = 'Не отвергается'\n",
    "        \n",
    "        LHR_list.append(LR)\n",
    "        hypothesis_list.append(hypothesis)\n",
    "        \n",
    "        M = (O[0][0] + O[0][1]) * (O[0][0] + O[1][0]) * (O[0][1] + O[1][1]) * (O[1][0] + O[1][1])\n",
    "        chi2_value = N * (O[0][0] * O[1][1] - O[0][1] * O[1][0])**2 / M\n",
    "        chi2_test.append(chi2_value)\n",
    "\n",
    "        if chi2_value > chi2_crit:\n",
    "            chi2_hypothesis = 'Отвергается'\n",
    "        else:\n",
    "            chi2_hypothesis = 'Не отвергается'\n",
    "\n",
    "        chi2_hypothesis_list.append(chi2_hypothesis)\n",
    "\n",
    "new_tab1 = tab.copy()\n",
    "new_tab2 = tab.copy()\n",
    "\n",
    "new_tab1['chi2'] = chi2_test.copy()\n",
    "new_tab1['chi2_hypothesis'] = chi2_hypothesis_list.copy()\n",
    "new_tab1 = new_tab1.sort_values(by = 'chi2', ascending = False)\n",
    "\n",
    "new_tab2['LHR_stat'] = LHR_list.copy()\n",
    "new_tab2['hypothesis'] = hypothesis_list.copy()\n",
    "new_tab2 = new_tab2.sort_values(by='LHR_stat', ascending=False)\n"
   ]
  },
  {
   "cell_type": "code",
   "execution_count": 16,
   "metadata": {},
   "outputs": [],
   "source": [
    "new_tab1.to_csv('chi2_stat.csv', sep=';', index=True, encoding='cp1251')\n",
    "new_tab2.to_csv('LHR_stat.csv', sep=';', index=True, encoding='cp1251')"
   ]
  },
  {
   "cell_type": "markdown",
   "metadata": {},
   "source": [
    "4. Для анализируемых биграмм задать истинные значения переменной класса: 1 – биграмма является коллокацией (устойчивым словосочетанием), 0 – иначе. Использовать глоссарий (в конце учебника) и знания предметной области."
   ]
  },
  {
   "cell_type": "markdown",
   "metadata": {},
   "source": [
    "Используя глоссарий учебника, из которого был взят текст (James G., Witten D., Hastie T., Tibshirani R An introduction to statistical learning with\n",
    "applications in R. – Switzerland: Springer, 2013. – 431 с.), получаем следующие словосочетания:\n",
    "1) Matrix multiplication."
   ]
  },
  {
   "cell_type": "markdown",
   "metadata": {},
   "source": [
    "А на основе собственных знаний научной области можно добавить еще устойчивые выражения:\n",
    "1) Matrix algebra;\n",
    "2) Matrix operations;\n",
    "3) Matrix command;\n",
    "4) Matrix form;\n",
    "5) Matrix function."
   ]
  },
  {
   "cell_type": "markdown",
   "metadata": {},
   "source": [
    "Для выбранных биграмм зададим значение равное 1, остальным биграмм – 0."
   ]
  },
  {
   "cell_type": "markdown",
   "metadata": {},
   "source": [
    "5. Построить ROC-кривые для оценки качества классификации биграмм как коллокаций/не коллокаций с помощью критериев Стьюдента проверки равенства вероятностей и хи-квадрат Пирсона."
   ]
  },
  {
   "cell_type": "code",
   "execution_count": 17,
   "metadata": {},
   "outputs": [],
   "source": [
    "import matplotlib.pyplot as plt\n",
    "from sklearn.metrics import roc_curve, auc"
   ]
  },
  {
   "cell_type": "markdown",
   "metadata": {},
   "source": [
    "Рассчитаем для критерия хи-квадрат Пирсона"
   ]
  },
  {
   "cell_type": "code",
   "execution_count": 18,
   "metadata": {},
   "outputs": [],
   "source": [
    "y_score_chi2 = new_tab1['chi2'].values"
   ]
  },
  {
   "cell_type": "code",
   "execution_count": 19,
   "metadata": {},
   "outputs": [
    {
     "data": {
      "text/plain": [
       "array([1.92576732e+03, 1.41199752e+03, 1.27738966e+03, 6.40580729e+02,\n",
       "       4.81418463e+02, 4.81418463e+02, 4.81418463e+02, 1.91375119e+02,\n",
       "       1.59148761e+02, 1.36130226e+02, 1.18866579e+02, 9.46980867e+01,\n",
       "       8.59098222e+01, 7.23898864e+01, 7.04502565e+01, 6.24758111e+01,\n",
       "       6.05421820e+01, 5.84484094e+01, 5.48949397e+01, 5.48949397e+01,\n",
       "       5.29673124e+01, 4.89104711e+01, 4.63672250e+01, 4.19746239e+01,\n",
       "       3.83144632e+01, 3.45030214e+01, 2.34871992e+01, 2.16286036e+01,\n",
       "       1.86243885e+01, 1.63017607e+01, 1.62590227e+01, 1.47342882e+01,\n",
       "       1.20880934e+01, 1.15351312e+01, 1.13882030e+01, 1.12194069e+01,\n",
       "       1.04805292e+01, 9.60129171e+00, 7.23495169e+00, 6.97518131e+00,\n",
       "       6.90736902e+00, 5.80749631e+00, 5.36211466e+00, 5.30528256e+00,\n",
       "       5.20277823e+00, 5.00666761e+00, 4.98751203e+00, 4.77695616e+00,\n",
       "       3.49798516e+00, 3.31434237e+00, 2.76698078e+00, 2.56921440e+00,\n",
       "       1.23452118e+00, 6.82103823e-01, 6.30223837e-01, 6.18823186e-01,\n",
       "       5.83622888e-01, 5.22409970e-01, 4.62913073e-01, 3.90254695e-01,\n",
       "       3.70676854e-01, 3.06199760e-01, 7.20330793e-02, 6.68406090e-02,\n",
       "       9.07812633e-03])"
      ]
     },
     "execution_count": 19,
     "metadata": {},
     "output_type": "execute_result"
    }
   ],
   "source": [
    "y_score_chi2"
   ]
  },
  {
   "cell_type": "markdown",
   "metadata": {},
   "source": [
    "Заполним истинные значения, соотвествующие критерию хи-квадрат Пирсона в нашей таблице"
   ]
  },
  {
   "cell_type": "code",
   "execution_count": 21,
   "metadata": {},
   "outputs": [],
   "source": [
    "y_true_chi2 = np.array([1, 0, 0, 0, \n",
    "                        1, 0, 1, 0, \n",
    "                        0, 0, 0, 0, \n",
    "                        0, 0, 0, 0, \n",
    "                        0, 0, 0, 0,\n",
    "                        0, 0, 0, 0, \n",
    "                        0, 1, 0, 1, \n",
    "                        0, 0, 0, 0, \n",
    "                        0, 0, 0, 0, \n",
    "                        0, 0, 1, 0, \n",
    "                        0, 0, 0, 0,\n",
    "                        0, 0, 0, 0, \n",
    "                        0, 0, 0, 0, \n",
    "                        0, 0, 0, 0, \n",
    "                        0, 0, 0, 0,\n",
    "                        0, 0, 0, 0,\n",
    "                        0])"
   ]
  },
  {
   "cell_type": "code",
   "execution_count": 22,
   "metadata": {},
   "outputs": [
    {
     "data": {
      "text/plain": [
       "(65,)"
      ]
     },
     "execution_count": 22,
     "metadata": {},
     "output_type": "execute_result"
    }
   ],
   "source": [
    "y_score_chi2.shape"
   ]
  },
  {
   "cell_type": "code",
   "execution_count": 23,
   "metadata": {},
   "outputs": [
    {
     "data": {
      "text/plain": [
       "(65,)"
      ]
     },
     "execution_count": 23,
     "metadata": {},
     "output_type": "execute_result"
    }
   ],
   "source": [
    "y_true_chi2.shape"
   ]
  },
  {
   "cell_type": "code",
   "execution_count": 24,
   "metadata": {},
   "outputs": [],
   "source": [
    "fpr_chi2, tpr_chi2, _ = roc_curve(y_true_chi2, y_score_chi2)\n",
    "roc_auc_chi2 = auc(fpr_chi2, tpr_chi2)"
   ]
  },
  {
   "cell_type": "code",
   "execution_count": 25,
   "metadata": {},
   "outputs": [
    {
     "data": {
      "image/png": "[encoded data removed]",
      "text/plain": [
       "<Figure size 640x480 with 1 Axes>"
      ]
     },
     "metadata": {},
     "output_type": "display_data"
    }
   ],
   "source": [
    "plt.figure()\n",
    "plt.plot(fpr_chi2, tpr_chi2, color='darkorange', lw=2, label=f'ROC curve (area = {roc_auc_chi2:.2f}) for Chi2')\n",
    "plt.plot([0, 1], [0, 1], color='navy', lw=2, linestyle='--')\n",
    "plt.xlim([0.0, 1.0])\n",
    "plt.ylim([0.0, 1.05])\n",
    "plt.xlabel('False Positive Rate')\n",
    "plt.ylabel('True Positive Rate')\n",
    "plt.title('Receiver Operating Characteristic')\n",
    "plt.legend(loc=\"lower right\")\n",
    "plt.show()"
   ]
  },
  {
   "cell_type": "markdown",
   "metadata": {},
   "source": [
    "Здесь диагональная линия показывает, как бы выглядела ROC-кривая для классификатора, который просто случайным образом предсказывает классы. Наша ROC-кривая лежит выше этой линии, это означает, что ваш классификатор работает лучше, чем случайное угадывание."
   ]
  },
  {
   "cell_type": "markdown",
   "metadata": {},
   "source": [
    "Чем дальше ваша ROC-кривая от диагональной линии, тем лучше качество классификации. Идеальный классификатор будет иметь ROC-кривую, которая стремится к левому верхнему углу графика (TPR = 1, FPR = 0)."
   ]
  },
  {
   "cell_type": "code",
   "execution_count": 28,
   "metadata": {},
   "outputs": [],
   "source": [
    "y_score_LHR = new_tab2['LHR_stat'].values"
   ]
  },
  {
   "cell_type": "code",
   "execution_count": 29,
   "metadata": {},
   "outputs": [
    {
     "data": {
      "text/plain": [
       "array([5.41985322e+01, 4.83542600e+01, 4.40276896e+01, 1.98932810e+01,\n",
       "       1.30232811e+01, 1.09832474e+01, 1.09832474e+01, 1.09832474e+01,\n",
       "       1.06708308e+01, 1.01042419e+01, 9.61190232e+00, 8.75797904e+00,\n",
       "       8.35732451e+00, 8.02448633e+00, 7.73984799e+00, 7.27062271e+00,\n",
       "       7.14480512e+00, 7.07234387e+00, 6.72752602e+00, 6.47633492e+00,\n",
       "       6.43466070e+00, 6.30328434e+00, 6.18025876e+00, 6.18025876e+00,\n",
       "       5.95548734e+00, 5.85223151e+00, 5.66102769e+00, 5.65576319e+00,\n",
       "       5.51028628e+00, 5.48721541e+00, 5.22653955e+00, 4.60874943e+00,\n",
       "       4.58122915e+00, 4.43346755e+00, 4.16949294e+00, 3.93910185e+00,\n",
       "       3.92111323e+00, 3.76743617e+00, 3.43995498e+00, 3.25634560e+00,\n",
       "       3.21157463e+00, 3.07477735e+00, 2.65230349e+00, 2.58610558e+00,\n",
       "       2.22626635e+00, 2.20086123e+00, 2.15132712e+00, 2.13190164e+00,\n",
       "       2.09167987e+00, 1.78627030e+00, 1.66234767e+00, 1.40069786e+00,\n",
       "       8.16031971e-01, 6.02514437e-01, 5.33061909e-01, 5.12600536e-01,\n",
       "       4.71812231e-01, 4.64578742e-01, 4.36458533e-01, 3.19086608e-01,\n",
       "       3.11865312e-01, 2.51422275e-01, 6.84376957e-02, 6.11697439e-02,\n",
       "       9.27648126e-03])"
      ]
     },
     "execution_count": 29,
     "metadata": {},
     "output_type": "execute_result"
    }
   ],
   "source": [
    "y_score_LHR"
   ]
  },
  {
   "cell_type": "code",
   "execution_count": 30,
   "metadata": {},
   "outputs": [],
   "source": [
    "y_true_LHR =  np.array([0, 0, 1, 0, \n",
    "                        1, 1, 0, 1, \n",
    "                        0, 0, 0, 0, \n",
    "                        0, 0, 0, 0, \n",
    "                        0, 0, 0, 0,\n",
    "                        0, 0, 0, 0, \n",
    "                        0, 0, 0, 0, \n",
    "                        1, 0, 0, 0, \n",
    "                        0, 1, 0, 0, \n",
    "                        0, 0, 0, 0, \n",
    "                        0, 0, 0, 0,\n",
    "                        0, 0, 0, 0, \n",
    "                        0, 0, 0, 0, \n",
    "                        0, 0, 0, 0, \n",
    "                        0, 0, 0, 0,\n",
    "                        0, 0, 0, 0,\n",
    "                        0])"
   ]
  },
  {
   "cell_type": "code",
   "execution_count": 31,
   "metadata": {},
   "outputs": [
    {
     "data": {
      "text/plain": [
       "(65,)"
      ]
     },
     "execution_count": 31,
     "metadata": {},
     "output_type": "execute_result"
    }
   ],
   "source": [
    "y_score_LHR.shape"
   ]
  },
  {
   "cell_type": "code",
   "execution_count": 32,
   "metadata": {},
   "outputs": [
    {
     "data": {
      "text/plain": [
       "(65,)"
      ]
     },
     "execution_count": 32,
     "metadata": {},
     "output_type": "execute_result"
    }
   ],
   "source": [
    "y_true_LHR.shape"
   ]
  },
  {
   "cell_type": "code",
   "execution_count": 33,
   "metadata": {},
   "outputs": [],
   "source": [
    "fpr_LHR, tpr_LHR, _ = roc_curve(y_true_LHR, y_score_LHR)\n",
    "roc_auc_LHR = auc(fpr_LHR, tpr_LHR)"
   ]
  },
  {
   "cell_type": "code",
   "execution_count": 34,
   "metadata": {},
   "outputs": [
    {
     "data": {
      "image/png": "[encoded data removed]",
      "text/plain": [
       "<Figure size 640x480 with 1 Axes>"
      ]
     },
     "metadata": {},
     "output_type": "display_data"
    }
   ],
   "source": [
    "plt.figure()\n",
    "plt.plot(fpr_LHR, tpr_LHR, color='darkorange', lw=2, label=f'ROC curve (area = {roc_auc_LHR:.2f}) for LHR')\n",
    "plt.plot([0, 1], [0, 1], color='navy', lw=2, linestyle='--')\n",
    "plt.xlim([0.0, 1.0])\n",
    "plt.ylim([0.0, 1.05])\n",
    "plt.xlabel('False Positive Rate')\n",
    "plt.ylabel('True Positive Rate')\n",
    "plt.title('Receiver Operating Characteristic')\n",
    "plt.legend(loc=\"lower right\")\n",
    "plt.show()"
   ]
  },
  {
   "cell_type": "markdown",
   "metadata": {},
   "source": [
    "6) Сравнить критерии по качеству классификации на основе показателя AUC (площади под ROC-кривой). Сделать выводы"
   ]
  },
  {
   "cell_type": "markdown",
   "metadata": {},
   "source": [
    "AUC — это площадь под ROC-кривой. Она является важной метрикой, которая позволяет оценить качество классификации:\n",
    "\n",
    "AUC = 1: Идеальная классификация.\n",
    "\n",
    "AUC = 0.5: Классификатор работает как случайное угадывание.\n",
    "\n",
    "AUC < 0.5: Классификатор работает хуже, чем случайное угадывание.\n",
    "\n",
    "Исходя из полученных данных, мы можем сделать следующие выводы:\n",
    "\n",
    "Значение AUC для критерия Стьюдента близко к 1, что указывает на очень хорошее качество классификации. Классификатор, использующий критерий Стьюдента, работает почти идеально. Классификатор с таким высоким AUC хорошо различает коллокации и не коллокации.\n",
    "\n",
    "Значение AUC 0.86 также указывает на хорошее качество классификации, хотя и не такое высокое, как в случае с критерием Стьюдента. Классификатор, использующий критерий хи-квадрат, также хорошо различает коллокации и не коллокации, но не так эффективно, как в случае с критерием Стьюдента."
   ]
  }
 ],
 "metadata": {
  "kernelspec": {
   "display_name": "Python 3",
   "language": "python",
   "name": "python3"
  },
  "language_info": {
   "codemirror_mode": {
    "name": "ipython",
    "version": 3
   },
   "file_extension": ".py",
   "mimetype": "text/x-python",
   "name": "python",
   "nbconvert_exporter": "python",
   "pygments_lexer": "ipython3",
   "version": "3.12.2"
  }
 },
 "nbformat": 4,
 "nbformat_minor": 2
}
