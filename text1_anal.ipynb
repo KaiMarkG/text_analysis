{
 "cells": [
  {
   "cell_type": "markdown",
   "metadata": {},
   "source": [
    "1. Из всего текста отобрать комбинации смежных слов (стоящие рядом в одном предложении), содержащие слово соответствующее Вашему варианту (файл text_sent_1, word1 training). Если слово в варианте указано как word1, то оно должно быть только на первой позиции. На второй позиции может быть любое слово."
   ]
  },
  {
   "cell_type": "code",
   "execution_count": 1,
   "metadata": {},
   "outputs": [],
   "source": [
    "import pandas as pd\n",
    "import numpy as np\n",
    "import math\n",
    "from scipy.stats import t\n",
    "from scipy.stats import chi2"
   ]
  },
  {
   "cell_type": "code",
   "execution_count": 2,
   "metadata": {},
   "outputs": [],
   "source": [
    "file_path = 'text_sent_1.txt'\n",
    "target_word = 'training'\n",
    "\n",
    "total_bigrams = 0\n",
    "target_word_count = 0"
   ]
  },
  {
   "cell_type": "code",
   "execution_count": 3,
   "metadata": {},
   "outputs": [],
   "source": [
    "data = {'bigramma': [], 'frequency': []}"
   ]
  },
  {
   "cell_type": "code",
   "execution_count": 4,
   "metadata": {},
   "outputs": [],
   "source": [
    "with open(file_path, 'r', encoding='utf-8') as file:\n",
    "    for line in file:\n",
    "        words = line.split()\n",
    "        total_bigrams += len(words) - 1\n",
    "\n",
    "        for i in range(1, len(words)):\n",
    "            if words[i - 1] == target_word:\n",
    "                target_word_count += 1\n",
    "                bigram = f\"{target_word} {words[i]}\"\n",
    "                if bigram in data['bigramma']:\n",
    "                    index = data['bigramma'].index(bigram)\n",
    "                    data['frequency'][index] += 1\n",
    "                else:\n",
    "                    data['bigramma'].append(bigram)\n",
    "                    data['frequency'].append(1)"
   ]
  },
  {
   "cell_type": "code",
   "execution_count": 5,
   "metadata": {},
   "outputs": [
    {
     "data": {
      "text/plain": [
       "481"
      ]
     },
     "execution_count": 5,
     "metadata": {},
     "output_type": "execute_result"
    }
   ],
   "source": [
    "target_word_count"
   ]
  },
  {
   "cell_type": "code",
   "execution_count": 6,
   "metadata": {},
   "outputs": [
    {
     "data": {
      "text/plain": [
       "176550"
      ]
     },
     "execution_count": 6,
     "metadata": {},
     "output_type": "execute_result"
    }
   ],
   "source": [
    "total_bigrams"
   ]
  },
  {
   "cell_type": "code",
   "execution_count": 7,
   "metadata": {},
   "outputs": [],
   "source": [
    "tab = pd.DataFrame(data)"
   ]
  },
  {
   "cell_type": "code",
   "execution_count": 8,
   "metadata": {},
   "outputs": [],
   "source": [
    "tab.to_csv('bi_tab.csv', sep=';', index=True, encoding='utf-8')"
   ]
  },
  {
   "cell_type": "markdown",
   "metadata": {},
   "source": [
    "2. Проранжировать биграммы по частоте встречаемости. Сделать предварительные выводы о возможных коллокациях."
   ]
  },
  {
   "cell_type": "code",
   "execution_count": 9,
   "metadata": {},
   "outputs": [],
   "source": [
    "tab = tab.sort_values(by = 'frequency', ascending = False)"
   ]
  },
  {
   "cell_type": "code",
   "execution_count": 10,
   "metadata": {},
   "outputs": [],
   "source": [
    "tab.to_csv('bi_tab_sorted.csv', sep=';', index=True, encoding='utf-8')"
   ]
  },
  {
   "cell_type": "markdown",
   "metadata": {},
   "source": [
    "Collocations или коллокации — это грамматически и лексически правильные словосочетания. Проранжировав наши словосочетания по частоте встречаемости мы можем заметить, что самые часто встречающиеся сочетания вполне могут являться коллокациями, т.к. смысл в них имеется. Также мы можем предположить, что такие биграммы, например, как training of, training an, training from и training if не являются коллокациями, так как между ними не смысловая связь, а только грамматическая. Однако судить об этом по одной только частоте встречаемости может быть опрометчиво."
   ]
  },
  {
   "cell_type": "markdown",
   "metadata": {},
   "source": [
    "3. Проранжировать биграммы, отобранные в п. 2, в соответствие с критериями: Стьюдента проверки равенства вероятностей и хи-квадрата Пирсона"
   ]
  },
  {
   "cell_type": "markdown",
   "metadata": {},
   "source": [
    "Извлечем из полученных биграмм все слова, стоящие на второй позиции"
   ]
  },
  {
   "cell_type": "code",
   "execution_count": 11,
   "metadata": {},
   "outputs": [],
   "source": [
    "word2_all = []\n",
    "for bi in tab['bigramma']:\n",
    "    word2_all.extend(bi.split()[1:])"
   ]
  },
  {
   "cell_type": "code",
   "execution_count": 12,
   "metadata": {},
   "outputs": [
    {
     "name": "stdout",
     "output_type": "stream",
     "text": [
      "Критическое значение для t-test при alfa = 0.001:  3.2905818429832756\n"
     ]
    }
   ],
   "source": [
    "t_crit = t.ppf(1 - 0.001/2, total_bigrams - 1)\n",
    "print(\"Критическое значение для t-test при alfa = 0.001: \", t_crit)"
   ]
  },
  {
   "cell_type": "code",
   "execution_count": 13,
   "metadata": {},
   "outputs": [
    {
     "name": "stdout",
     "output_type": "stream",
     "text": [
      "Критическое значение для chi2 при alfa = 0.001:  10.827566170662733\n"
     ]
    }
   ],
   "source": [
    "df = 1  # Степени свободы для 2x2 таблицы\n",
    "chi2_crit = chi2.ppf(1 - 0.001, df)\n",
    "print(\"Критическое значение для chi2 при alfa = 0.001: \", chi2_crit)"
   ]
  },
  {
   "cell_type": "code",
   "execution_count": 14,
   "metadata": {},
   "outputs": [],
   "source": [
    "chi2_test = []\n",
    "t_stat_list = []\n",
    "hypothesis_list = []\n",
    "chi2_hypothesis_list = []\n",
    "\n",
    "for j in range(len(word2_all)):\n",
    "    with open(file_path, 'r', encoding='utf-8') as file:\n",
    "        # file.seek(0)\n",
    "        O = np.zeros((2, 2))\n",
    "\n",
    "        for line in file:\n",
    "            text = line.split()\n",
    "            for i in range(len(text)):\n",
    "                if text[i - 1] != target_word and text[i] == word2_all[j]:\n",
    "                    O[1][0] += 1\n",
    "\n",
    "        O[0][0] = tab['frequency'].iloc[j]\n",
    "        O[0][1] = target_word_count - O[0][0]\n",
    "        O[1][1] = total_bigrams - O[0][0] - O[0][1] - O[1][0]\n",
    "\n",
    "        N = total_bigrams # зачем тыщу раз считать то, что и так вычисленно\n",
    "        x_hat = O[0][0] / N\n",
    "        mu = ((O[0][0] + O[0][1]) * (O[0][0] + O[1][0])) / (N * N)\n",
    "        s2 = x_hat * (1 - x_hat)\n",
    "        t_stat = (x_hat - mu) / math.sqrt(s2 / N)\n",
    "\n",
    "        if abs(t_stat) > t_crit:\n",
    "            hypothesis = 'Отвергается'\n",
    "        else:\n",
    "            hypothesis = 'Не отвергается'\n",
    "        \n",
    "        t_stat_list.append(t_stat)\n",
    "        hypothesis_list.append(hypothesis)\n",
    "        \n",
    "        M = (O[0][0] + O[0][1]) * (O[0][0] + O[1][0]) * (O[0][1] + O[1][1]) * (O[1][0] + O[1][1])\n",
    "        chi2_value = N * (O[0][0] * O[1][1] - O[0][1] * O[1][0])**2 / M\n",
    "        chi2_test.append(chi2_value)\n",
    "\n",
    "        if abs(chi2_value) > chi2_crit:\n",
    "            chi2_hypothesis = 'Отвергается'\n",
    "        else:\n",
    "            chi2_hypothesis = 'Не отвергается'\n",
    "\n",
    "        chi2_hypothesis_list.append(chi2_hypothesis)\n",
    "\n",
    "new_tab1 = tab.copy()\n",
    "new_tab2 = tab.copy()\n",
    "\n",
    "new_tab1['chi2'] = chi2_test.copy()\n",
    "new_tab1['chi2_hypothesis'] = chi2_hypothesis_list.copy()\n",
    "new_tab1 = new_tab1.sort_values(by = 'chi2', ascending = False)\n",
    "\n",
    "new_tab2['t_stat'] = t_stat_list.copy()\n",
    "new_tab2['hypothesis'] = hypothesis_list.copy()\n",
    "new_tab2 = new_tab2.sort_values(by='t_stat', ascending=False)\n"
   ]
  },
  {
   "cell_type": "code",
   "execution_count": 15,
   "metadata": {},
   "outputs": [],
   "source": [
    "new_tab1.to_csv('chi2_stat.csv', sep=';', index=True, encoding='cp1251')\n",
    "new_tab2.to_csv('t_stat.csv', sep=';', index=True, encoding='cp1251')"
   ]
  },
  {
   "cell_type": "markdown",
   "metadata": {},
   "source": [
    "4. Для анализируемых биграмм задать истинные значения переменной класса: 1 – биграмма является коллокацией (устойчивым словосочетанием), 0 – иначе. Использовать глоссарий (в конце учебника) и знания предметной области."
   ]
  },
  {
   "cell_type": "markdown",
   "metadata": {},
   "source": [
    "Используя глоссарий учебника, из которого был взят текст (Hastie T., Tibshirani R., Friedman J. H. The elements of statistical learning: data mining,\n",
    "inference, and prediction. – Switzerland: Springer, 2009. – 745 c.), получаем следующие словосочетания:\n",
    "1) Training epoch (epochs); \n",
    "2) Training error (errors);\n",
    "3) Training set (sets)."
   ]
  },
  {
   "cell_type": "markdown",
   "metadata": {},
   "source": [
    "А на основе собственных знаний научной области можно добавить еще устойчивые выражения:\n",
    "1) Training process;\n",
    "2) Training data;\n",
    "3) Training sample (samples);\n",
    "4) Training observaition (observaitions);\n",
    "5) Training datasets;\n",
    "6) Training point (points);\n",
    "7) Training case (cases)."
   ]
  },
  {
   "cell_type": "markdown",
   "metadata": {},
   "source": [
    "Для выбранных биграмм зададим значение равное 1, остальным биграмм – 0."
   ]
  },
  {
   "cell_type": "markdown",
   "metadata": {},
   "source": [
    "5. Построить ROC-кривые для оценки качества классификации биграмм как коллокаций/не коллокаций с помощью критериев Стьюдента проверки равенства вероятностей и хи-квадрат Пирсона."
   ]
  },
  {
   "cell_type": "markdown",
   "metadata": {},
   "source": [
    "Для критерия Стьюдента"
   ]
  },
  {
   "cell_type": "code",
   "execution_count": 16,
   "metadata": {},
   "outputs": [],
   "source": [
    "y_score_t = new_tab2['t_stat'].values"
   ]
  },
  {
   "cell_type": "code",
   "execution_count": 17,
   "metadata": {},
   "outputs": [
    {
     "data": {
      "text/plain": [
       "array([10.99657404,  9.82448312,  5.99310914,  5.89707252,  5.04970082,\n",
       "        4.4984338 ,  3.10808843,  2.93405165,  2.80936076,  2.052452  ,\n",
       "        1.99607008,  1.99457371,  1.83927884,  1.66914673,  1.62038466,\n",
       "        1.58420635,  1.56847665,  1.41036861,  1.41036861,  1.40844213,\n",
       "        1.36633096,  1.29285325,  1.28514732,  1.27358843,  1.16185251,\n",
       "        0.99727838,  0.99727838,  0.99182949,  0.98638059,  0.98638059,\n",
       "        0.98076326,  0.9754828 ,  0.96730945,  0.95957197,  0.92916717,\n",
       "        0.92644273,  0.91554493,  0.88285155,  0.8801271 ,  0.85833152,\n",
       "        0.85833152,  0.84470927,  0.84198483,  0.83926038,  0.8011181 ,\n",
       "        0.59406002,  0.56953999,  0.50687767,  0.46056205,  0.32978853,\n",
       "        0.16393515, -0.28593681, -0.36767026, -0.49571933, -1.06512904,\n",
       "       -1.15231139, -1.69447662, -8.9908704 ])"
      ]
     },
     "execution_count": 17,
     "metadata": {},
     "output_type": "execute_result"
    }
   ],
   "source": [
    "y_score_t"
   ]
  },
  {
   "cell_type": "markdown",
   "metadata": {},
   "source": [
    "Заполним истинные значения, соотвествующие критерию Стьюденту в нашей таблице"
   ]
  },
  {
   "cell_type": "code",
   "execution_count": 22,
   "metadata": {},
   "outputs": [],
   "source": [
    "y_true_t = np.array([1, 1, 1, 1, 1, \n",
    "                     1, 1, 1, 1, 0,\n",
    "                     0, 1, 1, 0, 0,\n",
    "                     1, 1, 0, 1, 0,\n",
    "                     0, 0, 1, 0, 0,\n",
    "                     0, 0, 0, 0, 0,\n",
    "                     1, 0, 0, 0, 0,\n",
    "                     0, 0, 0, 0, 0, \n",
    "                     0, 0, 0, 0, 0,\n",
    "                     0, 0, 0, 0, 0,\n",
    "                     0, 0, 0, 0, 0,\n",
    "                     0, 0, 0])"
   ]
  },
  {
   "cell_type": "markdown",
   "metadata": {},
   "source": [
    "Проверка, что размерности совпали и мы ни в чем не ошиблись"
   ]
  },
  {
   "cell_type": "code",
   "execution_count": 20,
   "metadata": {},
   "outputs": [
    {
     "data": {
      "text/plain": [
       "(58,)"
      ]
     },
     "execution_count": 20,
     "metadata": {},
     "output_type": "execute_result"
    }
   ],
   "source": [
    "y_score_t.shape"
   ]
  },
  {
   "cell_type": "code",
   "execution_count": 21,
   "metadata": {},
   "outputs": [
    {
     "data": {
      "text/plain": [
       "(58,)"
      ]
     },
     "execution_count": 21,
     "metadata": {},
     "output_type": "execute_result"
    }
   ],
   "source": [
    "y_true_t.shape"
   ]
  },
  {
   "cell_type": "code",
   "execution_count": 23,
   "metadata": {},
   "outputs": [],
   "source": [
    "import matplotlib.pyplot as plt\n",
    "from sklearn.metrics import roc_curve, auc"
   ]
  },
  {
   "cell_type": "code",
   "execution_count": 25,
   "metadata": {},
   "outputs": [],
   "source": [
    "fpr_t, tpr_t, _ = roc_curve(y_true_t, y_score_t)\n",
    "roc_auc_t = auc(fpr_t, tpr_t)"
   ]
  },
  {
   "cell_type": "code",
   "execution_count": 26,
   "metadata": {},
   "outputs": [
    {
     "data": {
      "image/png": "[encoded data removed]",
      "text/plain": [
       "<Figure size 640x480 with 1 Axes>"
      ]
     },
     "metadata": {},
     "output_type": "display_data"
    }
   ],
   "source": [
    "plt.figure()\n",
    "plt.plot(fpr_t, tpr_t, color='blue', lw=2, label=f'ROC curve (area = {roc_auc_t:.2f}) for t-statistic')\n",
    "plt.plot([0, 1], [0, 1], color='navy', lw=2, linestyle='--')\n",
    "plt.xlim([0.0, 1.0])\n",
    "plt.ylim([0.0, 1.05])\n",
    "plt.xlabel('False Positive Rate')\n",
    "plt.ylabel('True Positive Rate')\n",
    "plt.title('Receiver Operating Characteristic')\n",
    "plt.legend(loc=\"lower right\")\n",
    "plt.show()"
   ]
  },
  {
   "cell_type": "markdown",
   "metadata": {},
   "source": [
    "Здесь диагональная линия показывает, как бы выглядела ROC-кривая для классификатора, который просто случайным образом предсказывает классы. Наша ROC-кривая лежит выше этой линии, это означает, что ваш классификатор работает лучше, чем случайное угадывание."
   ]
  },
  {
   "cell_type": "markdown",
   "metadata": {},
   "source": [
    "Рассчитаем для критерия хи-квадрат Пирсона"
   ]
  },
  {
   "cell_type": "code",
   "execution_count": 27,
   "metadata": {},
   "outputs": [],
   "source": [
    "y_score_chi2 = new_tab1['chi2'].values"
   ]
  },
  {
   "cell_type": "code",
   "execution_count": 28,
   "metadata": {},
   "outputs": [
    {
     "data": {
      "text/plain": [
       "array([7.53052743e+03, 4.96516566e+03, 2.62478681e+03, 2.02311567e+03,\n",
       "       1.46422444e+03, 7.32103928e+02, 7.32103928e+02, 6.88683665e+02,\n",
       "       5.64526137e+02, 4.95890391e+02, 4.86739604e+02, 3.66049890e+02,\n",
       "       3.66049890e+02, 1.24635125e+02, 1.20688299e+02, 1.19736034e+02,\n",
       "       7.69216853e+01, 7.16203338e+01, 7.16203338e+01, 4.22338941e+01,\n",
       "       4.08482946e+01, 3.89156124e+01, 3.72593598e+01, 2.94949920e+01,\n",
       "       2.87001486e+01, 2.61336474e+01, 2.61096369e+01, 1.95364413e+01,\n",
       "       1.81521644e+01, 1.63624189e+01, 1.36186156e+01, 1.22231556e+01,\n",
       "       1.17015884e+01, 9.95357070e+00, 7.59076625e+00, 6.67294756e+00,\n",
       "       6.48113955e+00, 5.21602565e+00, 5.21602565e+00, 4.60876873e+00,\n",
       "       4.50016299e+00, 4.39533110e+00, 3.23709055e+00, 3.15088270e+00,\n",
       "       2.87578603e+00, 2.80228717e+00, 1.07453250e+00, 8.72461107e-01,\n",
       "       7.56284506e-01, 6.21391498e-01, 5.53234013e-01, 5.22971751e-01,\n",
       "       3.94733018e-01, 1.65255895e-01, 1.62947068e-01, 9.93927978e-02,\n",
       "       6.39242671e-02, 3.05936612e-02])"
      ]
     },
     "execution_count": 28,
     "metadata": {},
     "output_type": "execute_result"
    }
   ],
   "source": [
    "y_score_chi2"
   ]
  },
  {
   "cell_type": "markdown",
   "metadata": {},
   "source": [
    "Заполним истинные значения, соотвествующие критерию хи-квадрат Пирсона в нашей таблице"
   ]
  },
  {
   "cell_type": "code",
   "execution_count": 29,
   "metadata": {},
   "outputs": [],
   "source": [
    "y_true_chi2 = np.array([1, 1, 1, 1, \n",
    "                        1, 1, 0, 1, \n",
    "                        1, 1, 0, 0, \n",
    "                        0, 1, 0, 1, \n",
    "                        0, 0, 0, 1,\n",
    "                        0, 0, 0, 1, \n",
    "                        0, 0, 0, 0, \n",
    "                        1, 0, 0, 1, \n",
    "                        0, 0, 0, 0, \n",
    "                        0, 0, 0, 0, \n",
    "                        0, 0, 0, 1,\n",
    "                        0, 0, 0, 0, \n",
    "                        0, 0, 0, 0, \n",
    "                        0, 0, 0, 0, \n",
    "                        0, 0])"
   ]
  },
  {
   "cell_type": "code",
   "execution_count": 30,
   "metadata": {},
   "outputs": [
    {
     "data": {
      "text/plain": [
       "(58,)"
      ]
     },
     "execution_count": 30,
     "metadata": {},
     "output_type": "execute_result"
    }
   ],
   "source": [
    "y_score_chi2.shape"
   ]
  },
  {
   "cell_type": "code",
   "execution_count": 32,
   "metadata": {},
   "outputs": [
    {
     "data": {
      "text/plain": [
       "(58,)"
      ]
     },
     "execution_count": 32,
     "metadata": {},
     "output_type": "execute_result"
    }
   ],
   "source": [
    "y_true_chi2.shape"
   ]
  },
  {
   "cell_type": "code",
   "execution_count": 33,
   "metadata": {},
   "outputs": [],
   "source": [
    "fpr_chi2, tpr_chi2, _ = roc_curve(y_true_chi2, y_score_chi2)\n",
    "roc_auc_chi2 = auc(fpr_chi2, tpr_chi2)"
   ]
  },
  {
   "cell_type": "code",
   "execution_count": 34,
   "metadata": {},
   "outputs": [
    {
     "data": {
      "image/png": "[encoded data removed]",
      "text/plain": [
       "<Figure size 640x480 with 1 Axes>"
      ]
     },
     "metadata": {},
     "output_type": "display_data"
    }
   ],
   "source": [
    "plt.figure()\n",
    "plt.plot(fpr_chi2, tpr_chi2, color='darkorange', lw=2, label=f'ROC curve (area = {roc_auc_chi2:.2f}) for Chi2')\n",
    "plt.plot([0, 1], [0, 1], color='navy', lw=2, linestyle='--')\n",
    "plt.xlim([0.0, 1.0])\n",
    "plt.ylim([0.0, 1.05])\n",
    "plt.xlabel('False Positive Rate')\n",
    "plt.ylabel('True Positive Rate')\n",
    "plt.title('Receiver Operating Characteristic')\n",
    "plt.legend(loc=\"lower right\")\n",
    "plt.show()"
   ]
  },
  {
   "cell_type": "markdown",
   "metadata": {},
   "source": [
    "Чем дальше ваша ROC-кривая от диагональной линии, тем лучше качество классификации. Идеальный классификатор будет иметь ROC-кривую, которая стремится к левому верхнему углу графика (TPR = 1, FPR = 0)."
   ]
  },
  {
   "cell_type": "markdown",
   "metadata": {},
   "source": [
    "6) Сравнить критерии по качеству классификации на основе показателя AUC (площади под ROC-кривой). Сделать выводы"
   ]
  },
  {
   "cell_type": "markdown",
   "metadata": {},
   "source": [
    "AUC — это площадь под ROC-кривой. Она является важной метрикой, которая позволяет оценить качество классификации:\n",
    "\n",
    "AUC = 1: Идеальная классификация.\n",
    "\n",
    "AUC = 0.5: Классификатор работает как случайное угадывание.\n",
    "\n",
    "AUC < 0.5: Классификатор работает хуже, чем случайное угадывание.\n",
    "\n",
    "Исходя из полученных данных, мы можем сделать следующие выводы:\n",
    "\n",
    "Значение AUC для критерия Стьюдента близко к 1, что указывает на очень хорошее качество классификации. Классификатор, использующий критерий Стьюдента, работает почти идеально. Классификатор с таким высоким AUC хорошо различает коллокации и не коллокации.\n",
    "\n",
    "Значение AUC 0.86 также указывает на хорошее качество классификации, хотя и не такое высокое, как в случае с критерием Стьюдента. Классификатор, использующий критерий хи-квадрат, также хорошо различает коллокации и не коллокации, но не так эффективно, как в случае с критерием Стьюдента."
   ]
  },
  {
   "cell_type": "markdown",
   "metadata": {},
   "source": []
  }
 ],
 "metadata": {
  "kernelspec": {
   "display_name": "Python 3",
   "language": "python",
   "name": "python3"
  },
  "language_info": {
   "codemirror_mode": {
    "name": "ipython",
    "version": 3
   },
   "file_extension": ".py",
   "mimetype": "text/x-python",
   "name": "python",
   "nbconvert_exporter": "python",
   "pygments_lexer": "ipython3",
   "version": "3.12.2"
  }
 },
 "nbformat": 4,
 "nbformat_minor": 2
}
